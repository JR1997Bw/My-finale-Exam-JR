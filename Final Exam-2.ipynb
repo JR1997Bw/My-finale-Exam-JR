{
 "cells": [
  {
   "cell_type": "markdown",
   "id": "11a10b0b-d76a-47c5-a030-c87cfe951ca8",
   "metadata": {},
   "source": [
    "# My final exam of the second Module"
   ]
  },
  {
   "cell_type": "markdown",
   "id": "b4a00f96-e0c5-4c82-9af5-fdb8c10e5713",
   "metadata": {},
   "source": [
    "Below you will see my solutions for the final project "
   ]
  },
  {
   "cell_type": "markdown",
   "id": "b7d44d00-8341-4804-b03d-d9efb1ab04d8",
   "metadata": {},
   "source": [
    "## List data science languages\n",
    "\n",
    "Below you will see my solutions for the \"List of data science languages\"\n",
    "\n",
    "- Python\n",
    "- R\n",
    "- SQL\n",
    "- Julia\n",
    "- MATLAB\n",
    "- SAS\n",
    "- Scala\n",
    "- Kotlin\n",
    "- Swift"
   ]
  },
  {
   "cell_type": "markdown",
   "id": "23e3e3ed-ed92-493c-ad6e-01cd31120478",
   "metadata": {},
   "source": [
    "## List of data science libraries\n",
    "\n",
    "Below you will see my solutions for the \"List of data science languages\"\n",
    "\n",
    "- NumPy\n",
    "- Pandas\n",
    "- Matplotlib\n",
    "- Seaborn\n",
    "- Scikit-learn\n",
    "- TensorFlow\n",
    "- dplyr\n",
    "- ggplot2\n",
    "- tidyr\n",
    "- caret\n",
    "- Shiny\n",
    "- data.table\n"
   ]
  },
  {
   "cell_type": "markdown",
   "id": "fb73d67d-2c20-4ac2-91f9-2fa2dc039f7b",
   "metadata": {},
   "source": [
    "| Kategorie                       | Tools                       |\n",
    "|---------------------------------|-----------------------------|\n",
    "| Programming Languages           | Python, R, SQL, Julia       |\n",
    "| Data Analysis and Visualization | Pandas, Matplotlib, Seaborn | \n",
    "| Data Storage                    | MySQL, PostgreSQL, MongoDB  | "
   ]
  },
  {
   "cell_type": "markdown",
   "id": "1edbb705-78ed-420b-9fa8-1b881a175cc1",
   "metadata": {},
   "source": [
    "Arithmetic expressions are mathematical expressions that involve arithmetic operations ( for instance: addition, subtraction, multiplication, and division)\n",
    "\n",
    "Example: 1+3=4"
   ]
  },
  {
   "cell_type": "code",
   "execution_count": 3,
   "id": "6c801222-76fe-4914-977b-af56b9697e4f",
   "metadata": {},
   "outputs": [
    {
     "name": "stdout",
     "output_type": "stream",
     "text": [
      "The product of 4 and 7 is 28\n",
      "The sum of 9 and 11 is 20\n"
     ]
    }
   ],
   "source": [
    "# Multiplication\n",
    "a = 4\n",
    "b = 7\n",
    "product = a * b\n",
    "print(\"The product of\", a, \"and\", b, \"is\", product)\n",
    "\n",
    "# Addition\n",
    "x = 9\n",
    "y = 11\n",
    "sum = x + y\n",
    "print(\"The sum of\", x, \"and\", y, \"is\", sum)"
   ]
  },
  {
   "cell_type": "code",
   "execution_count": 5,
   "id": "81d6ee9a-5514-47bd-bc86-14ea122a198b",
   "metadata": {},
   "outputs": [
    {
     "name": "stdout",
     "output_type": "stream",
     "text": [
      "300 minutes is equal to 5.0 hours\n"
     ]
    }
   ],
   "source": [
    "minutes = 300\n",
    "hours = minutes / 60\n",
    "print(minutes, \"minutes is equal to\", hours, \"hours\")"
   ]
  },
  {
   "cell_type": "markdown",
   "id": "f4c966b8-0036-48ff-bead-116fb53fa050",
   "metadata": {},
   "source": [
    "Below you will see my objectives:\n",
    "\n",
    "I want to learn how to program an how to analyze. I want to reach new new goals an to know how to present and learn from Data. And I want to practice using basic arithmetic operators in Python."
   ]
  },
  {
   "cell_type": "markdown",
   "id": "f0d1e7c1-d62c-4781-86a4-680d9e372fd6",
   "metadata": {},
   "source": [
    "Author: Julian Ruf"
   ]
  },
  {
   "cell_type": "code",
   "execution_count": null,
   "id": "df053a37-b5a5-4b47-97ca-721940deb574",
   "metadata": {},
   "outputs": [],
   "source": []
  }
 ],
 "metadata": {
  "kernelspec": {
   "display_name": "Python",
   "language": "python",
   "name": "conda-env-python-py"
  },
  "language_info": {
   "codemirror_mode": {
    "name": "ipython",
    "version": 3
   },
   "file_extension": ".py",
   "mimetype": "text/x-python",
   "name": "python",
   "nbconvert_exporter": "python",
   "pygments_lexer": "ipython3",
   "version": "3.7.12"
  }
 },
 "nbformat": 4,
 "nbformat_minor": 5
}
